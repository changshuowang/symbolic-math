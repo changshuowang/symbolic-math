{
 "cells": [
  {
   "cell_type": "markdown",
   "metadata": {},
   "source": [
    "#### Backward generation(BWD)"
   ]
  },
  {
   "cell_type": "markdown",
   "metadata": {},
   "source": [
    "1. generate data after integral"
   ]
  },
  {
   "cell_type": "code",
   "execution_count": 1,
   "metadata": {},
   "outputs": [],
   "source": [
    "import time\n",
    "\n",
    "import numpy as np\n",
    "\n",
    "from backward import generate_bwd\n",
    "import ray"
   ]
  },
  {
   "cell_type": "markdown",
   "metadata": {},
   "source": [
    "### Testing ..."
   ]
  },
  {
   "cell_type": "code",
   "execution_count": null,
   "metadata": {},
   "outputs": [],
   "source": [
    "#!wc -l ./data/bwd_sample5000.txt"
   ]
  },
  {
   "cell_type": "code",
   "execution_count": null,
   "metadata": {},
   "outputs": [
    {
     "name": "stdout",
     "output_type": "stream",
     "text": [
      "generating 4000 samples in total\n",
      "process finished\n",
      "process finished\n",
      "process finished\n",
      "process finished\n",
      "process finished\n",
      "process finished\n",
      "process finished\n"
     ]
    }
   ],
   "source": [
    "from multiprocessing.pool import ThreadPool\n",
    "import ray\n",
    "# ray.shutdown()\n",
    "# ray.init()\n",
    "\n",
    "_FINISH = False\n",
    "\n",
    "sequences_per_process = 100\n",
    "process_runs = 8\n",
    "round_num = 5\n",
    "\n",
    "print('generating {} samples in total'.format(\n",
    "    sequences_per_process * process_runs * round_num)\n",
    ")\n",
    "\n",
    "start0 = time.time()\n",
    "for i in range(round_num):\n",
    "#     ray.shutdown()\n",
    "    time.sleep(10)\n",
    "#     ray.init()\n",
    "    from multiprocessing.pool import ThreadPool\n",
    "    _FINISH = False\n",
    "    start = time.time()\n",
    "    with ThreadPool(processes=14) as p:\n",
    "        out = []\n",
    "        r = p.map_async(generate_bwd, [sequences_per_process]*process_runs, callback=out.append)\n",
    "        r.wait()\n",
    "        time.sleep(10)\n",
    "        print('round {} done'.format(i))\n",
    "        _FINISH = True\n",
    "        p.terminate()\n",
    "        p.join()\n",
    "#     ray.shutdown()    \n",
    "    filename = \"./data_generation/bwd\" + str(sequences_per_process * process_runs) + \"_\" + str(i+101) + \".txt\"\n",
    "    file = open(filename, \"w+\")\n",
    "    for j in range(len(out[0])):\n",
    "        sequence =out[0][j]\n",
    "        file.writelines(sequence)\n",
    "    file.close()\n",
    "    end = time.time()\n",
    "    print(\"Finished: {} round in {} seconds\".format(i, end-start))\n",
    "ray.shutdown()\n",
    "length = time.time()-start0\n",
    "print(\"Finished: in {} hours\".format(length/3600))  "
   ]
  },
  {
   "cell_type": "markdown",
   "metadata": {},
   "source": [
    "<pre>\n",
    "processes=14\n",
    "sequences_per_process   process_runs         hours for 1 million \n",
    "- 16                       4                 94.28\n",
    "- 4                        16                54.06\n",
    "- 128                      4                 80.07\n",
    "- 32                       16                58.18\n",
    "- 64                       8                 54.56\n",
    "</pre>"
   ]
  }
 ],
 "metadata": {
  "kernelspec": {
   "display_name": "py_36_env",
   "language": "python",
   "name": "py_36_env"
  },
  "language_info": {
   "codemirror_mode": {
    "name": "ipython",
    "version": 3
   },
   "file_extension": ".py",
   "mimetype": "text/x-python",
   "name": "python",
   "nbconvert_exporter": "python",
   "pygments_lexer": "ipython3",
   "version": "3.6.9"
  }
 },
 "nbformat": 4,
 "nbformat_minor": 4
}
